{
 "cells": [
  {
   "cell_type": "markdown",
   "metadata": {},
   "source": [
    "# Running Molecular Dynamics Simulations in OpenMM\n",
    "\n",
    "## Overview\n",
    "**Molecular Dynamics Simulation**: simulation of molecules through time via calculations of forces on atoms and their positions based on those forces. The output is a trajectory."
   ]
  },
  {
   "cell_type": "markdown",
   "metadata": {},
   "source": [
    "## Steps for running a simulation\n",
    "1. **Initialization** -- setting up imports, variables, and other system parameters to prepare for the simulation\n",
    "2. **Minimization** -- calculating the energies of moving molecules slightly to obtain a local \"minimum\" in energy and eliminate “bad” interatomic contacts\n",
    "3. **Equilibration** -- a brief MD simulation that prepares our system to our target temperature and desired equilibrium values\n",
    "4. **Production** -- run the equilibration\n",
    "5. **Analysis** -- after you have collected your data from the production run, you must analyze the trajectory to draw conclusions"
   ]
  },
  {
   "cell_type": "markdown",
   "metadata": {},
   "source": [
    "## Our First Simulations\n",
    "We will now use [OpenMM](https://openmm.org/documentation) to do a molecular dynamics simulation of the ethane and butane molecules we prepared. It’s important to note at this point that molecular dynamics simulations can be performed using a number of softwares. However, we will be running a simulation with a program called OpenMM. OpenMM has the advantage of being scriptable with Python."
   ]
  },
  {
   "cell_type": "markdown",
   "metadata": {},
   "source": [
    "---"
   ]
  },
  {
   "cell_type": "markdown",
   "metadata": {},
   "source": [
    "### Initialization\n",
    "Once you have OpenMM, we can use it to simulate our molecules. Start in your notebook with imports. Here are the python libraries you will need to run simulations with OpenMM."
   ]
  },
  {
   "cell_type": "code",
   "execution_count": 1,
   "metadata": {},
   "outputs": [],
   "source": [
    "import openmm as mm\n",
    "from openmm import app, unit"
   ]
  },
  {
   "cell_type": "markdown",
   "metadata": {},
   "source": [
    "First, we need to read in our structure and our force field. We have to tell the simulation our initial coordinates and the force field we will use. To do this, we use the PDB file we have and the force field file we prepared."
   ]
  },
  {
   "cell_type": "code",
   "execution_count": 2,
   "metadata": {},
   "outputs": [],
   "source": [
    "pdb = app.PDBFile('data/ethane.pdb')\n",
    "forcefield = app.ForceField('data/ethane.gaff2.xml')"
   ]
  },
  {
   "cell_type": "markdown",
   "metadata": {},
   "source": [
    "#### QUESTION\n",
    "What are we doing with these two commands above?\n",
    "*(Hint: let's check out some [documentation](http://docs.openmm.org/latest/userguide/application/02_running_sims.html))*\n",
    "\n",
    "#### RESPONSE\n",
    "The first command loads the `.pdb` file (atomic position data) and returns a PDBFile object.\n",
    "The second command loads the `.xml` file (bond and force field parameters) and returns a ForceField object."
   ]
  },
  {
   "cell_type": "markdown",
   "metadata": {},
   "source": [
    "#### QUESTION\n",
    "What lies in the contents of the XML file being read in `forcefield`?\n",
    "\n",
    "#### RESPONSE\n",
    "In the `Residue` tag with `Atom` tags. Each `Atom` tag has a unique `name` for the atom and `type` attribute specifying the type of atom. The `type` values were defined in the `AtomTypes` tag. \n",
    "\n",
    "\n",
    "There are `HarmonicBondForce`, `HarmonicAngleForce`, `PeriodicTorsionForce`, `NonbondedForce` tags with the MM parameters given in specific attributes.\n",
    "\n",
    "For example, the force constant is found in `HarmonicBondForce.Bond[k]` (psuedo code where [] are attributes). The bond angles can be found in `HarmonicAngleForce.Angle[hc]`"
   ]
  },
  {
   "cell_type": "markdown",
   "metadata": {},
   "source": [
    "Next, we set up the system for our MD simulation. With the following command, we use the `pdb` variable to create a system. The other arguments to the function say that we are not using a cut-off and that we want to constrain bonds with hydrogens (this allows us to use a larger timestep)."
   ]
  },
  {
   "cell_type": "code",
   "execution_count": 3,
   "metadata": {},
   "outputs": [],
   "source": [
    "system = forcefield.createSystem(pdb.topology, nonbondedMethod=app.NoCutoff, constraints=app.HBonds)"
   ]
  },
  {
   "cell_type": "markdown",
   "metadata": {},
   "source": [
    "Our simulation will be in vacuum at a temperature of 298.15 K. The Langevin integrator is what is called a stochastic integrator. This means that it mimics jostling of air or solvent through random forces. We are using a 5.0 picosecond coupling constant, which is something which controls how often the integrator adds jostling motions."
   ]
  },
  {
   "cell_type": "code",
   "execution_count": 4,
   "metadata": {},
   "outputs": [],
   "source": [
    "integrator = mm.LangevinIntegrator(298.15*unit.kelvin, 5.0/unit.picoseconds, 2.0*unit.femtoseconds)\n",
    "integrator.setConstraintTolerance(1e-5)"
   ]
  },
  {
   "cell_type": "markdown",
   "metadata": {},
   "source": [
    "#### QUESTION\n",
    "What is the `integrator` applying to our simulation?\n",
    "\n",
    "#### RESPONSE\n",
    "The `LangevinIntegrator` is applying random force at a constant interval to our system (ethane molecule). A random force (collisions/interactions) is applied due to the random nature of particles in air/solvent. The Langevin equation is commonly used to simulate the random (Brownian) motion of an atom/particles/molecules and diffusion.\n",
    "\n",
    "The `integrator` is basically simulating brownian motion to our system when equilibrating and simulating."
   ]
  },
  {
   "cell_type": "markdown",
   "metadata": {},
   "source": [
    "Finally, we initialize the simulation by adding all of the pieces we have prepared:"
   ]
  },
  {
   "cell_type": "code",
   "execution_count": 6,
   "metadata": {},
   "outputs": [],
   "source": [
    "platform = mm.Platform.getPlatformByName('Reference')\n",
    "simulation = app.Simulation(pdb.topology, system, integrator, platform) # ENTER THE THREE PIECES OF OUR SIMULATION HERE (hmm... I wonder where I can find this)\n",
    "simulation.context.setPositions(pdb.positions)"
   ]
  },
  {
   "cell_type": "markdown",
   "metadata": {},
   "source": [
    "---"
   ]
  },
  {
   "cell_type": "markdown",
   "metadata": {},
   "source": [
    "### Minimization\n",
    "Now, we start calculating energies. First we do an energy minimization. We start in this code block by printing the energy before minimization, doing 100 steps of an energy minimization, then printing the new energy. You should see that the energy decreases:"
   ]
  },
  {
   "cell_type": "code",
   "execution_count": 7,
   "metadata": {},
   "outputs": [
    {
     "name": "stdout",
     "output_type": "stream",
     "text": [
      "Minimizing...\n",
      "Potential energy before minimization is 4.467818271065188 kJ/mol\n",
      "Potential energy after minimization is 4.389967724953272 kJ/mol\n"
     ]
    }
   ],
   "source": [
    "print('Minimizing...')\n",
    "\n",
    "st = simulation.context.getState(getPositions=True,getEnergy=True)\n",
    "print(F\"Potential energy before minimization is {st.getPotentialEnergy()}\")\n",
    "\n",
    "simulation.minimizeEnergy(maxIterations=100)\n",
    "\n",
    "st = simulation.context.getState(getPositions=True,getEnergy=True)\n",
    "print(F\"Potential energy after minimization is {st.getPotentialEnergy()}\")"
   ]
  },
  {
   "cell_type": "markdown",
   "metadata": {},
   "source": [
    "You can’t see it from this code, but the atom positions have changed slightly to cause this change in energy."
   ]
  },
  {
   "cell_type": "markdown",
   "metadata": {},
   "source": [
    "#### QUESTION\n",
    "What is an energy minimization? Why do we want to perform a local energy minimization at the start of our simulation?\n",
    "\n",
    "#### RESPONSE\n",
    "Energy minimization is the process where a algorithm modifies the bond lengths, angles, dihedral angles, etc. such that the system is at a local minimum. We perform a local energy minimization since the real system we are modeling contains molecules near the local energy. This relates to the partition function and that there is higher statistically likelihood that molecules will occupy lower energy levels than higher energy levels."
   ]
  },
  {
   "cell_type": "markdown",
   "metadata": {},
   "source": [
    "---"
   ]
  },
  {
   "cell_type": "markdown",
   "metadata": {},
   "source": [
    "### Equilibration\n",
    "Next, we run an equilibration. The purpose of this equilibration is to get our system to our target temperature and to get the system equilibrated and ready for our production run."
   ]
  },
  {
   "cell_type": "code",
   "execution_count": 8,
   "metadata": {},
   "outputs": [
    {
     "name": "stdout",
     "output_type": "stream",
     "text": [
      "Equilibrating...\n",
      "#\"Step\",\"Potential Energy (kJ/mole)\",\"Temperature (K)\"\n",
      "100,11.627046749243728,266.17155539221443\n",
      "200,15.565851748622029,319.2551752867935\n",
      "300,22.879096125985395,138.6435326857513\n",
      "400,14.938996506083694,277.00695877459117\n",
      "500,23.837397866789487,335.55105762639863\n",
      "600,32.65592024980232,329.5966330756701\n",
      "700,16.098470870943167,372.5751518581214\n",
      "800,18.99642526534693,341.3503998299196\n",
      "900,21.000998938686585,483.2920328519226\n",
      "1000,18.290478808559723,524.67895586422\n",
      "1100,14.884062424160586,661.165525162624\n",
      "1200,31.227162538521,341.3838189279901\n",
      "1300,33.512466004300485,417.9866781180548\n",
      "1400,28.724336916068513,381.86874201740756\n",
      "1500,22.810923522806736,288.40826088883614\n",
      "1600,21.27593003584123,418.64443410987167\n",
      "1700,18.37367577739829,410.70392592715694\n",
      "1800,18.271811274852602,413.5154166597259\n",
      "1900,22.43649967854203,274.732914085288\n",
      "2000,9.373123283526539,195.2661186050685\n",
      "2100,18.178613607452583,282.1483774850332\n",
      "2200,13.029571291085913,205.493188800625\n",
      "2300,15.537968972598728,110.41156917630823\n",
      "2400,27.33133877399869,146.30177638643502\n",
      "2500,10.665101097184781,561.7018422866238\n"
     ]
    }
   ],
   "source": [
    "from sys import stdout\n",
    "\n",
    "print('Equilibrating...')\n",
    "\n",
    "simulation.reporters.append(app.StateDataReporter(stdout, 100, step=True, \n",
    "    potentialEnergy=True, temperature=True, separator=','))\n",
    "simulation.context.setVelocitiesToTemperature(150.0*unit.kelvin)\n",
    "simulation.step(2500)"
   ]
  },
  {
   "cell_type": "markdown",
   "metadata": {},
   "source": [
    "The first command in this section sets up what information OpenMM will report to us as the simulation runs. We are asking for the potential energy, and temperature every 100 timesteps. By putting `stdout` as the first argument, we are telling the program to just print the information. Note that `stdout` comes from the built in Python module `sys`. If we wanted the information in a file instead, you would put the file name.\n",
    "\n",
    "The second command sets the initial velocities of the system to a temperature equivalent of 150 K. Then, we integrate for 2,500 steps to allow the system to equilibrate."
   ]
  },
  {
   "cell_type": "markdown",
   "metadata": {},
   "source": [
    "---"
   ]
  },
  {
   "cell_type": "markdown",
   "metadata": {},
   "source": [
    "### Production\n",
    "This next block of code is a longer block of simulation called the ‘production run’. We’re also added a timer to this code so we can see how long it took our simulation to run."
   ]
  },
  {
   "cell_type": "code",
   "execution_count": 13,
   "metadata": {},
   "outputs": [
    {
     "name": "stdout",
     "output_type": "stream",
     "text": [
      "Running Production...\n",
      "#\"Step\",\"Time (ps)\",\"Potential Energy (kJ/mole)\",\"Temperature (K)\",\"Speed (ns/day)\"\n",
      "16750000,33500.00000590734,15.405585832689175,137.3621668026364,0\n",
      "17000000,34000.000006009206,14.847295753904314,343.1438669922197,7.66e+03\n",
      "17250000,34500.00000611107,15.621350666306537,237.36134438090653,7.57e+03\n",
      "17500000,35000.00000621293,13.06896119784729,40.819175237619106,7.46e+03\n",
      "Done!\n",
      "Time required for simulation: 22.57840609550476 seconds\n"
     ]
    }
   ],
   "source": [
    "import time as time\n",
    "\n",
    "print('Running Production...')\n",
    "\n",
    "# Begin timer\n",
    "tinit=time.time()\n",
    "\n",
    "# Clear simulation reporters\n",
    "simulation.reporters.clear()\n",
    "\n",
    "# Reinitialize simulation reporters. We do this because we want different information printed from the production run than the equilibration run.\n",
    "# output basic simulation information below every 250000 steps - (which is equal to 2 fs(250,000) = 500,000 fs = 500 ps)\n",
    "simulation.reporters.append(app.StateDataReporter(stdout, 250000, \n",
    "    step=True, time=True, potentialEnergy=True, temperature=True, \n",
    "    speed=True, separator=','))\n",
    "\n",
    "# write out a trajectory (i.e., coordinates vs. time) to a DCD\n",
    "# file every 100 steps - 0.2 ps\n",
    "simulation.reporters.append(app.DCDReporter('ethane_sim.dcd', 100))\n",
    "\n",
    "# run the simulation for 1.0x10^7 steps - 20 ns\n",
    "simulation.step(1000000)\n",
    "\n",
    "# End timer\n",
    "tfinal=time.time()\n",
    "print('Done!')\n",
    "print('Time required for simulation:', tfinal-tinit, 'seconds')"
   ]
  },
  {
   "cell_type": "markdown",
   "metadata": {},
   "source": [
    "After executing this cell in your notebook, you should see an output which gives you the step number, simulation time, potential energy, temperature, and “speed” for steps in the simulation. The spacing of theses is set in the `simulation.reporters` step where we indicated we wanted information printed every 250,000 timesteps.\n",
    "\n",
    "The “speed” is reported in “ns/day” or “nanoseconds/day”. This is a commonly used unit to report how quickly simulations run. It tells you how much simulation time in nanoseconds would pass for 24 hours of computation time. For example, if a simulation is running at 2 ns/day, enough timesteps would be calculated in one day to make 2 nanoseconds of simulation time. If we were using our 2 fs timestep, this would mean that the computer calculated 1,000,000 timesteps over 24 hours."
   ]
  },
  {
   "cell_type": "markdown",
   "metadata": {},
   "source": [
    "---"
   ]
  },
  {
   "cell_type": "markdown",
   "metadata": {},
   "source": [
    "## Your Turn\n",
    "Make a copy of the code you wrote to run your ethane simulation and modify it to:\n",
    "1. Read in the files `butane.gaff2.xml` and `butane.pdb`\n",
    "2. Carry out a 10 ps MD simulation to bring the butane molecule to an equilibrium temperature of 298 K in which output is printed every 0.5 ps (Leave the minimization portion beforehand unchanged.)\n",
    "3. Carry out a 40 ns MD simulation at 298 K in which output is printed every 1 ns and structures are (still) saved every 0.2 ps into a file called `butane_sim.dcd`."
   ]
  },
  {
   "cell_type": "code",
   "execution_count": 15,
   "metadata": {},
   "outputs": [
    {
     "name": "stdout",
     "output_type": "stream",
     "text": [
      "Minimizing...\n",
      "Potential energy before minimization is 5.797528692127868 kJ/mol\n",
      "Potential energy after minimization is 5.295784483017471 kJ/mol\n",
      "Equilibrating...\n",
      "Running Production...\n",
      "#\"Step\",\"Time (ps)\",\"Potential Energy (kJ/mole)\",\"Temperature (K)\",\"Speed (ns/day)\"\n",
      "500000,999.9999999901769,53.83502643035473,427.0675448184399,0\n",
      "1000000,1999.9999999665301,57.32709470388116,287.68589076707264,5.47e+03\n",
      "1500000,2999.9999999428833,36.71826492400706,329.30299473097733,5.34e+03\n",
      "2000000,3999.9999999192364,49.13881470499726,217.95380800400795,5.23e+03\n",
      "2500000,5000.000000101135,38.875179555130494,383.54963414997997,5.24e+03\n",
      "3000000,6000.000000304862,52.31869710109108,281.4682790492577,5.29e+03\n",
      "3500000,7000.0000005085885,43.288606191226194,324.19629707666064,5.32e+03\n",
      "4000000,8000.000000712315,39.17146249307399,291.281383447507,5.36e+03\n",
      "4500000,9000.000000916041,49.59154419500255,454.012361558532,5.37e+03\n",
      "5000000,10000.000001119768,37.25176644182051,405.58025922219326,5.38e+03\n",
      "5500000,11000.000001323495,36.254945049217135,448.98318193259047,5.4e+03\n",
      "6000000,12000.000001527222,69.13513165071333,302.2706243360712,5.41e+03\n",
      "6500000,13000.000001730948,38.57864565483558,173.55263285976227,5.43e+03\n",
      "7000000,14000.000001934675,31.282319063912126,295.38793127637894,5.44e+03\n",
      "7500000,15000.000002138402,49.595083765141055,255.00252021429742,5.45e+03\n",
      "8000000,16000.000002342129,39.67008416683237,317.3826379531409,5.45e+03\n",
      "8500000,17000.000002545854,36.72503681392435,279.21433337993335,5.46e+03\n",
      "9000000,18000.00000274958,42.08980217519487,245.5516263090982,5.47e+03\n",
      "9500000,19000.000002953308,39.21028017451551,275.63130755481995,5.48e+03\n",
      "10000000,20000.000003157034,45.48437800093102,287.645043555515,5.47e+03\n",
      "10500000,21000.00000336076,38.50981704008687,188.18634346237357,5.44e+03\n",
      "11000000,22000.000003564488,36.83576399960408,331.97216395521673,5.34e+03\n",
      "11500000,23000.000003768215,41.82178939923324,377.77872265254916,5.31e+03\n",
      "12000000,24000.00000397194,38.25084154912312,315.70492575861215,5.29e+03\n",
      "12500000,25000.00000417567,33.38688338759537,271.83620079414914,5.29e+03\n",
      "13000000,26000.000004379395,29.797858893153325,270.6152600648156,5.3e+03\n",
      "13500000,27000.000004583122,51.82738336402063,243.67759601042346,5.29e+03\n",
      "14000000,28000.00000478685,35.22253097879531,269.74382608712466,5.29e+03\n",
      "14500000,29000.000004990576,46.87809824650824,358.0451886901678,5.3e+03\n",
      "15000000,30000.000005194303,40.00808145350502,349.06156979427345,5.3e+03\n",
      "15500000,31000.00000539803,63.546760370044716,291.5124966550605,5.31e+03\n",
      "16000000,32000.000005601756,33.10576015656761,242.1403311277312,5.29e+03\n",
      "16500000,33000.00000580548,35.89010528359796,270.42578679304523,5.27e+03\n",
      "17000000,34000.000006009206,30.871316269259925,249.22581918710222,5.28e+03\n",
      "17500000,35000.00000621293,26.133486393840812,181.99154046932557,5.29e+03\n",
      "18000000,36000.00000641666,24.52830999589252,282.4893473151004,5.3e+03\n",
      "18500000,37000.00000662039,40.88266484854072,412.3550830186192,5.28e+03\n",
      "19000000,38000.00000682411,49.115065848860134,215.85080817466675,5.27e+03\n",
      "19500000,39000.00000702784,52.23408393088598,396.93635262647217,5.27e+03\n",
      "20000000,40000.00000723157,52.79650722841932,327.1360423424327,5.27e+03\n",
      "Done!\n",
      "Time required for simulation: 651.8134388923645 seconds\n"
     ]
    }
   ],
   "source": [
    "### your code here!!!\n",
    "# INIT\n",
    "pdb = app.PDBFile('data/butane.pdb')\n",
    "forcefield = app.ForceField('data/butane.gaff2.xml')\n",
    "\n",
    "system = forcefield.createSystem(pdb.topology, nonbondedMethod=app.NoCutoff, constraints=app.HBonds)\n",
    "\n",
    "integrator = mm.LangevinIntegrator(298.15*unit.kelvin, 5.0/unit.picoseconds, 2.0*unit.femtoseconds)\n",
    "integrator.setConstraintTolerance(1e-5)\n",
    "\n",
    "platform = mm.Platform.getPlatformByName('Reference')\n",
    "simulation = app.Simulation(pdb.topology, system, integrator, platform) # ENTER THE THREE PIECES OF OUR SIMULATION HERE (hmm... I wonder where I can find this)\n",
    "simulation.context.setPositions(pdb.positions)\n",
    "\n",
    "# Minimization\n",
    "print('Minimizing...')\n",
    "st = simulation.context.getState(getPositions=True,getEnergy=True)\n",
    "print(F\"Potential energy before minimization is {st.getPotentialEnergy()}\")\n",
    "simulation.minimizeEnergy(maxIterations=100)\n",
    "st = simulation.context.getState(getPositions=True,getEnergy=True)\n",
    "print(F\"Potential energy after minimization is {st.getPotentialEnergy()}\")\n",
    "\n",
    "# Equilibration\n",
    "print('Equilibrating...')\n",
    "simulation.reporters.append(app.StateDataReporter(stdout, 5000, step=True, \n",
    "    potentialEnergy=True, temperature=True, separator=','))\n",
    "simulation.context.setVelocitiesToTemperature(150.0*unit.kelvin)\n",
    "simulation.step(2500)\n",
    "\n",
    "# Production\n",
    "print('Running Production...')\n",
    "tinit=time.time()  # Begin timer\n",
    "simulation.reporters.clear()  # Clear simulation reporters\n",
    "# Reinitialize simulation reporters.\n",
    "# output basic simulation information below every 500000 steps - (which is equal to 2 fs(500,000) = 1000,000 fs = 1000 ps = 1ns)\n",
    "simulation.reporters.append(app.StateDataReporter(stdout, 500000, \n",
    "    step=True, time=True, potentialEnergy=True, temperature=True, \n",
    "    speed=True, separator=','))\n",
    "# write out a trajectory (i.e., coordinates vs. time) to a DCD\n",
    "# file every 100 steps - 0.2 ps\n",
    "simulation.reporters.append(app.DCDReporter('butane_sim.dcd', 100))\n",
    "# run the simulation for 2.0x10^7 steps - 40 ns\n",
    "simulation.step(20000000)\n",
    "# End timer\n",
    "tfinal=time.time()\n",
    "print('Done!')\n",
    "print('Time required for simulation:', tfinal-tinit, 'seconds')"
   ]
  },
  {
   "cell_type": "markdown",
   "metadata": {},
   "source": [
    "---"
   ]
  },
  {
   "cell_type": "markdown",
   "metadata": {},
   "source": [
    "## Analysis\n",
    "Now that we’ve performed our computer experiment, it is time to analyze the data we have collected. The main type of data you have collected through this simulation is information on atom positions, or the system trajectory.\n",
    "\n",
    "As part of our production simulation, we set up a reporter to record atomic positions. The code below shows that code from your previous script, **you do not need to execute it.**"
   ]
  },
  {
   "cell_type": "markdown",
   "metadata": {},
   "source": [
    "```Python\n",
    "simulation.reporters.append(app.DCDReporter('ethane_sim.dcd', 100))\n",
    "```"
   ]
  },
  {
   "cell_type": "markdown",
   "metadata": {},
   "source": [
    "This reporter saved the atomic positions for us every 100 timesteps in a file called `ethane_sim.dcd`. The DCD file format is a binary file (instead of being a text file), so you cannot open it and look at it. However, we will be using certain libraries to analyze and view the file’s contents. If you’ve run your simulation, you should have the file `ethane_sim.dcd` in the same folder as your Jupyter notebook.\n",
    "\n",
    "First, we will need to make sure we have a few more Python libraries installed which can help us with analysis. We will use a library called **nglview** to visualize the trajectory, and a library called **MDTraj** to analyze the trajectory. Before opening a new notebook for analysis, you may need to install **nglview** and **MDTraj**.\n",
    "\n",
    "Type the following in your *terminal* to install **nglview** and **MDTraj**:"
   ]
  },
  {
   "cell_type": "code",
   "execution_count": null,
   "metadata": {},
   "outputs": [],
   "source": [
    "$ conda install -c conda-forge mdtraj nglview"
   ]
  },
  {
   "cell_type": "code",
   "execution_count": 16,
   "metadata": {},
   "outputs": [],
   "source": [
    "import mdtraj as md\n",
    "\n",
    "traj = md.load('ethane_sim.dcd', top='data/ethane.pdb')"
   ]
  },
  {
   "cell_type": "markdown",
   "metadata": {},
   "source": [
    "The command above reads all of the atomic positions from `ethane_sim.dcd` and keeps track of atom connectivity (topology) which was given in the PDB file. Next, visualize the trajectory using nglview. Nglview has a special function `show_mdtraj` that we can use with our trajectory because it was in a specific format from the MDTraj library."
   ]
  },
  {
   "cell_type": "code",
   "execution_count": 17,
   "metadata": {},
   "outputs": [
    {
     "data": {
      "application/vnd.jupyter.widget-view+json": {
       "model_id": "1a7895a478eb437e9c110c9acb25b0d3",
       "version_major": 2,
       "version_minor": 0
      },
      "text/plain": []
     },
     "metadata": {},
     "output_type": "display_data"
    },
    {
     "data": {
      "application/vnd.jupyter.widget-view+json": {
       "model_id": "a4128abcaa0447368206aed37235e090",
       "version_major": 2,
       "version_minor": 0
      },
      "text/plain": [
       "NGLWidget(max_frame=9999)"
      ]
     },
     "metadata": {},
     "output_type": "display_data"
    }
   ],
   "source": [
    "import nglview as ngl\n",
    "\n",
    "visualize = ngl.show_mdtraj(traj)\n",
    "visualize"
   ]
  },
  {
   "cell_type": "markdown",
   "metadata": {},
   "source": [
    "This should show you something that looks sort of like a movie of your ethane molecule. These are the atomic positions calculated by OpenMM during the molecular dynamics run. We can now analyze the positions to find out some things about our molecule.\n",
    "\n",
    "We will use another OpenMM command to pull out our bonds and atoms for analysis"
   ]
  },
  {
   "cell_type": "code",
   "execution_count": 18,
   "metadata": {},
   "outputs": [
    {
     "data": {
      "text/html": [
       "<div>\n",
       "<style scoped>\n",
       "    .dataframe tbody tr th:only-of-type {\n",
       "        vertical-align: middle;\n",
       "    }\n",
       "\n",
       "    .dataframe tbody tr th {\n",
       "        vertical-align: top;\n",
       "    }\n",
       "\n",
       "    .dataframe thead th {\n",
       "        text-align: right;\n",
       "    }\n",
       "</style>\n",
       "<table border=\"1\" class=\"dataframe\">\n",
       "  <thead>\n",
       "    <tr style=\"text-align: right;\">\n",
       "      <th></th>\n",
       "      <th>serial</th>\n",
       "      <th>name</th>\n",
       "      <th>element</th>\n",
       "      <th>resSeq</th>\n",
       "      <th>resName</th>\n",
       "      <th>chainID</th>\n",
       "      <th>segmentID</th>\n",
       "    </tr>\n",
       "  </thead>\n",
       "  <tbody>\n",
       "    <tr>\n",
       "      <th>0</th>\n",
       "      <td>1</td>\n",
       "      <td>C1</td>\n",
       "      <td>C</td>\n",
       "      <td>1</td>\n",
       "      <td>ETH</td>\n",
       "      <td>0</td>\n",
       "      <td></td>\n",
       "    </tr>\n",
       "    <tr>\n",
       "      <th>1</th>\n",
       "      <td>2</td>\n",
       "      <td>H11</td>\n",
       "      <td>H</td>\n",
       "      <td>1</td>\n",
       "      <td>ETH</td>\n",
       "      <td>0</td>\n",
       "      <td></td>\n",
       "    </tr>\n",
       "    <tr>\n",
       "      <th>2</th>\n",
       "      <td>3</td>\n",
       "      <td>H12</td>\n",
       "      <td>H</td>\n",
       "      <td>1</td>\n",
       "      <td>ETH</td>\n",
       "      <td>0</td>\n",
       "      <td></td>\n",
       "    </tr>\n",
       "    <tr>\n",
       "      <th>3</th>\n",
       "      <td>4</td>\n",
       "      <td>H13</td>\n",
       "      <td>H</td>\n",
       "      <td>1</td>\n",
       "      <td>ETH</td>\n",
       "      <td>0</td>\n",
       "      <td></td>\n",
       "    </tr>\n",
       "    <tr>\n",
       "      <th>4</th>\n",
       "      <td>5</td>\n",
       "      <td>C2</td>\n",
       "      <td>C</td>\n",
       "      <td>1</td>\n",
       "      <td>ETH</td>\n",
       "      <td>0</td>\n",
       "      <td></td>\n",
       "    </tr>\n",
       "    <tr>\n",
       "      <th>5</th>\n",
       "      <td>6</td>\n",
       "      <td>H21</td>\n",
       "      <td>H</td>\n",
       "      <td>1</td>\n",
       "      <td>ETH</td>\n",
       "      <td>0</td>\n",
       "      <td></td>\n",
       "    </tr>\n",
       "    <tr>\n",
       "      <th>6</th>\n",
       "      <td>7</td>\n",
       "      <td>H22</td>\n",
       "      <td>H</td>\n",
       "      <td>1</td>\n",
       "      <td>ETH</td>\n",
       "      <td>0</td>\n",
       "      <td></td>\n",
       "    </tr>\n",
       "    <tr>\n",
       "      <th>7</th>\n",
       "      <td>8</td>\n",
       "      <td>H23</td>\n",
       "      <td>H</td>\n",
       "      <td>1</td>\n",
       "      <td>ETH</td>\n",
       "      <td>0</td>\n",
       "      <td></td>\n",
       "    </tr>\n",
       "  </tbody>\n",
       "</table>\n",
       "</div>"
      ],
      "text/plain": [
       "   serial name element  resSeq resName  chainID segmentID\n",
       "0       1   C1       C       1     ETH        0          \n",
       "1       2  H11       H       1     ETH        0          \n",
       "2       3  H12       H       1     ETH        0          \n",
       "3       4  H13       H       1     ETH        0          \n",
       "4       5   C2       C       1     ETH        0          \n",
       "5       6  H21       H       1     ETH        0          \n",
       "6       7  H22       H       1     ETH        0          \n",
       "7       8  H23       H       1     ETH        0          "
      ]
     },
     "execution_count": 18,
     "metadata": {},
     "output_type": "execute_result"
    }
   ],
   "source": [
    "atoms, bonds = traj.topology.to_dataframe()\n",
    "atoms"
   ]
  },
  {
   "cell_type": "markdown",
   "metadata": {},
   "source": [
    "#### QUESTION\n",
    "Describe the table that `atoms` produced.\n",
    "\n",
    "#### RESPONSE\n",
    "Your response here :D"
   ]
  },
  {
   "cell_type": "markdown",
   "metadata": {},
   "source": [
    "### Analyzing the C-C bond length\n",
    "Let’s look at what C-C bond lengths our ethane molecule had during the simulation. Before we can measure the bond lengths, we have to decide which atoms from our molecule define the bond angle. You should see a table output from running `atoms`.\n",
    "\n",
    "We have to pick the atom indices for the C-C bond. An atom’s index is the left-most value in the table above. For our torsion, we’ll measure `C1-C2` the indices for these are `0` and `4`. We use the function `compute_distances` in the MDTraj library to measure the distance between these atoms."
   ]
  },
  {
   "cell_type": "code",
   "execution_count": null,
   "metadata": {},
   "outputs": [],
   "source": [
    "bond_indices = [0, 4] # atoms to define the bond length\n",
    "bond_length = md.compute_distances(traj, [bond_indices])"
   ]
  },
  {
   "cell_type": "markdown",
   "metadata": {},
   "source": [
    "We now have the measurement for this torsion angle in radians for each recorded timestep of the trajectory saved in the array `bond_length`. One way we can examine this data is by plotting it as a histogram using the Python library `matplotlib`."
   ]
  },
  {
   "cell_type": "code",
   "execution_count": null,
   "metadata": {},
   "outputs": [],
   "source": [
    "import matplotlib.pyplot as plt\n",
    "\n",
    "bondcounts, binedges, otherstuff = plt.hist(bond_length, bins=120)\n",
    "plt.title('C-C bond length histogram')\n",
    "plt.xlabel('Bond length (nm)')\n",
    "plt.ylabel('Counts')\n",
    "plt.show()"
   ]
  },
  {
   "cell_type": "markdown",
   "metadata": {},
   "source": [
    "## Your Turn\n",
    "A torsion is made up of four atoms which are bonded to each other. Analyze the torsion angle associated with the atoms `H11-C1-C2-H21` for your trajectory. Instead of using the function `compute_distance`, use `compute_dihedrals`. Create a histogram plot of the torsion angles.\n",
    "\n",
    "First, we need to pick the atom indices of our torsion angle and use the `compute_dihedrals` function to calculate the dihedrals."
   ]
  },
  {
   "cell_type": "code",
   "execution_count": null,
   "metadata": {},
   "outputs": [],
   "source": [
    "phi_indices = [] # add atoms to define the torsion angle\n",
    "phi = # use the compute_dihedrals function\n",
    "\n",
    "print(phi)"
   ]
  },
  {
   "cell_type": "markdown",
   "metadata": {},
   "source": [
    "We now have the measurement for this torsion angle in radians for each recorded timestep of the trajectory.\n",
    "\n",
    "Next, we can examine this data by plotting it as a histogram using the Python library `matplotlib`."
   ]
  },
  {
   "cell_type": "code",
   "execution_count": null,
   "metadata": {},
   "outputs": [],
   "source": [
    "import matplotlib.pyplot as plt\n",
    "\n",
    "# create a histogram with 90 bins"
   ]
  },
  {
   "cell_type": "markdown",
   "metadata": {},
   "source": [
    "Credit for this exercise goes to [MolSSI](https://education.molssi.org/mm-tools/02-md-alkanes/index.html)."
   ]
  }
 ],
 "metadata": {
  "kernelspec": {
   "display_name": "Python 3.10.6 ('mm-tools')",
   "language": "python",
   "name": "python3"
  },
  "language_info": {
   "codemirror_mode": {
    "name": "ipython",
    "version": 3
   },
   "file_extension": ".py",
   "mimetype": "text/x-python",
   "name": "python",
   "nbconvert_exporter": "python",
   "pygments_lexer": "ipython3",
   "version": "3.10.6"
  },
  "orig_nbformat": 4,
  "vscode": {
   "interpreter": {
    "hash": "952148be03f95d57d2bdb5574ce2b8b8667b1ef896e2eaf62d6cd8b134c4518d"
   }
  }
 },
 "nbformat": 4,
 "nbformat_minor": 2
}
